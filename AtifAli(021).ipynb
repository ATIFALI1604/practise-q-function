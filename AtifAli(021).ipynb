{
 "cells": [
  {
   "cell_type": "markdown",
   "id": "952f4b7b-62ce-45dc-987d-7e96189e6172",
   "metadata": {},
   "source": [
    " #  Basic Function Call\n"
   ]
  },
  {
   "cell_type": "code",
   "execution_count": 12,
   "id": "66044ec6-6623-4867-bc7a-c23b8ff27cfa",
   "metadata": {},
   "outputs": [
    {
     "name": "stdout",
     "output_type": "stream",
     "text": [
      "hello, python learner!\n"
     ]
    }
   ],
   "source": [
    "def say_hello():\n",
    "    print(\"hello, python learner!\")\n",
    "say_hello ()    "
   ]
  },
  {
   "cell_type": "markdown",
   "id": "1148c45f-0c95-4553-9370-317b8fd474d7",
   "metadata": {},
   "source": [
    "# Function with a Parameter"
   ]
  },
  {
   "cell_type": "code",
   "execution_count": 14,
   "id": "b40690e1-0bfb-4a30-b68b-6928cbe3f7a4",
   "metadata": {},
   "outputs": [
    {
     "name": "stdout",
     "output_type": "stream",
     "text": [
      "Hello, atif!\n"
     ]
    }
   ],
   "source": [
    "def greet_user(name):\n",
    "    print(f\"Hello, {name}!\")\n",
    "\n",
    "greet_user(\"atif\")\n"
   ]
  },
  {
   "cell_type": "markdown",
   "id": "8ba850f6-23f0-4500-aa7d-0adfd074b7d7",
   "metadata": {},
   "source": [
    " # Positional vs Keyword Arguments"
   ]
  },
  {
   "cell_type": "code",
   "execution_count": 21,
   "id": "a04ccac9-cd97-4e82-9815-880bf0f0c3b5",
   "metadata": {},
   "outputs": [
    {
     "name": "stdout",
     "output_type": "stream",
     "text": [
      "\n",
      "I have a cat.\n",
      "My cat's name is mano billi.\n",
      "\n",
      "I have a dog.\n",
      "My dog's name is tommy.\n"
     ]
    }
   ],
   "source": [
    "def describe_pet(animal_type, pet_name):\n",
    "    print(f\"\\nI have a {animal_type}.\")\n",
    "    print(f\"My {animal_type}'s name is {pet_name}.\")\n",
    "\n",
    "# Positional arguments\n",
    "describe_pet(\"cat\", \"mano billi\")\n",
    "\n",
    "# Keyword arguments\n",
    "describe_pet(pet_name=\"tommy\", animal_type=\"dog\")"
   ]
  },
  {
   "cell_type": "markdown",
   "id": "08a176be-c7af-417f-b0d6-c21f0602b369",
   "metadata": {},
   "source": [
    "# Default Parameters"
   ]
  },
  {
   "cell_type": "code",
   "execution_count": 26,
   "id": "3519e79c-4ae3-44be-b8b8-01849859be3b",
   "metadata": {},
   "outputs": [
    {
     "name": "stdout",
     "output_type": "stream",
     "text": [
      "\n",
      "I have a dog.\n",
      "My dog's name is tommy.\n",
      "\n",
      "I have a cat.\n",
      "My cat's name is mano billi.\n"
     ]
    }
   ],
   "source": [
    "def describe_pet(pet_name, animal_type=\"dog\"):\n",
    "    print(f\"\\nI have a {animal_type}.\")\n",
    "    print(f\"My {animal_type}'s name is {pet_name}.\")\n",
    "\n",
    "# Using default animal_type\n",
    "describe_pet(\"tommy\")\n",
    "\n",
    "# Overriding default\n",
    "describe_pet(\"mano billi\", \"cat\")\n"
   ]
  },
  {
   "cell_type": "markdown",
   "id": "34c2b481-3a72-456b-b1c9-25e18f1efc5d",
   "metadata": {},
   "source": [
    "# Returning Formatted Name"
   ]
  },
  {
   "cell_type": "code",
   "execution_count": 29,
   "id": "eab2194d-e73f-4461-b101-cf2299cd02c5",
   "metadata": {},
   "outputs": [
    {
     "name": "stdout",
     "output_type": "stream",
     "text": [
      "Gd Atif\n"
     ]
    }
   ],
   "source": [
    "def get_formatted_name(first, last):\n",
    "    full_name = f\"{first} {last}\"\n",
    "    return full_name.title()\n",
    "\n",
    "name = get_formatted_name(\"gd\", \"ATIF\")\n",
    "print(name)\n"
   ]
  },
  {
   "cell_type": "markdown",
   "id": "efca0e7b-5f86-4dee-a07a-0d96051f8b6f",
   "metadata": {},
   "source": [
    "# Optional Middle Name"
   ]
  },
  {
   "cell_type": "code",
   "execution_count": 32,
   "id": "8f73f74a-350a-4dba-9d2e-74ef3083b7b2",
   "metadata": {},
   "outputs": [
    {
     "name": "stdout",
     "output_type": "stream",
     "text": [
      "Atif Ali\n",
      "Gd Ali Atif\n"
     ]
    }
   ],
   "source": [
    "def get_formatted_name(first, last, middle=\"\"):\n",
    "    if middle:\n",
    "        full_name = f\"{first} {middle} {last}\"\n",
    "    else:\n",
    "        full_name = f\"{first} {last}\"\n",
    "    return full_name.title()\n",
    "\n",
    "print(get_formatted_name(\"atif\", \"ali\"))\n",
    "print(get_formatted_name(\"gd\", \"atif\", \"ali\"))\n"
   ]
  },
  {
   "cell_type": "markdown",
   "id": "18d15bba-df58-4b66-b4f2-87e6002df8db",
   "metadata": {},
   "source": [
    "# Returning a Dictionary"
   ]
  },
  {
   "cell_type": "code",
   "execution_count": 35,
   "id": "066a870a-5431-415c-b3e7-372c87b46cfb",
   "metadata": {},
   "outputs": [
    {
     "name": "stdout",
     "output_type": "stream",
     "text": [
      "{'first': 'gd', 'last': 'atif', 'age': 21}\n",
      "{'first': 'atif', 'last': 'ali'}\n"
     ]
    }
   ],
   "source": [
    "def build_person(first, last, age=None):\n",
    "    person = {'first': first, 'last': last}\n",
    "    if age:\n",
    "        person['age'] = age\n",
    "    return person\n",
    "\n",
    "print(build_person(\"gd\", \"atif\", 21))\n",
    "print(build_person(\"atif\", \"ali\"))\n"
   ]
  },
  {
   "cell_type": "markdown",
   "id": "80b857f0-39ed-4715-97a4-6d0815bad9da",
   "metadata": {},
   "source": [
    "# Greeting a List of Users"
   ]
  },
  {
   "cell_type": "code",
   "execution_count": 38,
   "id": "6ced5634-ee43-4229-bd1b-96f6b4c773b1",
   "metadata": {},
   "outputs": [
    {
     "name": "stdout",
     "output_type": "stream",
     "text": [
      "Hello, gd!\n",
      "Hello, atif!\n",
      "Hello, ali!\n"
     ]
    }
   ],
   "source": [
    "def greet_users(usernames):\n",
    "    for name in usernames:\n",
    "        print(f\"Hello, {name}!\")\n",
    "\n",
    "greet_users([\"gd\", \"atif\", \"ali\"])\n"
   ]
  },
  {
   "cell_type": "markdown",
   "id": "465f2f4c-2d53-4ccc-9765-dc12b742efeb",
   "metadata": {},
   "source": [
    "# Arbitrary Number of Arguments"
   ]
  },
  {
   "cell_type": "code",
   "execution_count": 41,
   "id": "d4408aa4-6791-420f-b617-0e4277ac88e1",
   "metadata": {},
   "outputs": [
    {
     "name": "stdout",
     "output_type": "stream",
     "text": [
      "\n",
      "Making a pizza with the following toppings:\n",
      "- pepperoni\n",
      "- mushrooms\n",
      "- extra cheese\n"
     ]
    }
   ],
   "source": [
    "def make_pizza(*toppings):\n",
    "    print(\"\\nMaking a pizza with the following toppings:\")\n",
    "    for topping in toppings:\n",
    "        print(f\"- {topping}\")\n",
    "\n",
    "make_pizza(\"pepperoni\", \"mushrooms\", \"extra cheese\")\n"
   ]
  },
  {
   "cell_type": "markdown",
   "id": "47f35367-6389-45e1-bb94-be5fc5541616",
   "metadata": {},
   "source": [
    "# Arbitrary Keyword Arguments"
   ]
  },
  {
   "cell_type": "code",
   "execution_count": 44,
   "id": "a3799496-8c27-42e1-8038-45be2de13411",
   "metadata": {},
   "outputs": [
    {
     "name": "stdout",
     "output_type": "stream",
     "text": [
      "{'first': 'gd', 'last': 'atif', 'location': 'lahore', 'field': 'data analyst'}\n"
     ]
    }
   ],
   "source": [
    "def build_profile(first, last, **info):\n",
    "    profile = {'first': first, 'last': last}\n",
    "    profile.update(info)\n",
    "    return profile\n",
    "\n",
    "user_profile = build_profile(\"gd\", \"atif\", location=\"lahore\", field=\"data analyst\")\n",
    "print(user_profile)\n"
   ]
  },
  {
   "cell_type": "code",
   "execution_count": null,
   "id": "62b3a1b4-a79f-4d16-aff7-70c3d0f24bf9",
   "metadata": {},
   "outputs": [],
   "source": []
  }
 ],
 "metadata": {
  "kernelspec": {
   "display_name": "Python 3 (ipykernel)",
   "language": "python",
   "name": "python3"
  },
  "language_info": {
   "codemirror_mode": {
    "name": "ipython",
    "version": 3
   },
   "file_extension": ".py",
   "mimetype": "text/x-python",
   "name": "python",
   "nbconvert_exporter": "python",
   "pygments_lexer": "ipython3",
   "version": "3.12.4"
  }
 },
 "nbformat": 4,
 "nbformat_minor": 5
}
